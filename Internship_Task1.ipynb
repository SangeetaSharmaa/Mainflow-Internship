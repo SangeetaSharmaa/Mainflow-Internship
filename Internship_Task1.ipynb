{
 "cells": [
  {
   "cell_type": "code",
   "execution_count": 2,
   "id": "552e7706-fdf3-468f-942b-c8dec65aaa57",
   "metadata": {},
   "outputs": [
    {
     "name": "stdout",
     "output_type": "stream",
     "text": [
      "Updated List: ['apple', 'Guava', 'pineapple', 'orange']\n"
     ]
    }
   ],
   "source": [
    "# Task 1\n",
    "# Write a Python code to create a list, a dictionary, and a set. Perform basic operations like adding, removing, and modifying elements.\n",
    "\n",
    "# Lists are used to store multiple items in a single variable. Lists are created using square brackets.\n",
    "# List items are ordered, changeable, and allow duplicate values.\n",
    "my_list = [\"apple\", \"mango\", \"banana\", \"pineapple\"]\n",
    "\n",
    "# change list items\n",
    "my_list[1] = \"Guava\"\n",
    "\n",
    "# adding elements\n",
    "my_list.append(\"orange\")\n",
    "\n",
    "# removing elements\n",
    "my_list.remove(\"banana\")\n",
    "\n",
    "print(\"Updated List:\", my_list)\n"
   ]
  },
  {
   "cell_type": "code",
   "execution_count": 4,
   "id": "418cb25d-965e-42c6-afda-6a19a2fe5118",
   "metadata": {},
   "outputs": [
    {
     "name": "stdout",
     "output_type": "stream",
     "text": [
      "Updated Set: {112, True, 1090, 100, 'Helpline'}\n"
     ]
    }
   ],
   "source": [
    "# Sets are used to store multiple items in a single variable. A set is a collection that is unordered, unchangeable, and unindexed.\n",
    "# Sets are written with curly brackets.\n",
    "my_set = {112, True, 116, \"Helpline\", 115}\n",
    "\n",
    "# modifying set elements\n",
    "my_set.discard(116)\n",
    "my_set.add(1090)\n",
    "\n",
    "# adding elements\n",
    "my_set.add(100)\n",
    "\n",
    "# removing elements\n",
    "my_set.remove(115)\n",
    "\n",
    "print(\"Updated Set:\", my_set)"
   ]
  },
  {
   "cell_type": "code",
   "execution_count": 5,
   "id": "c9cadff2-2cff-495e-be64-57b888c27153",
   "metadata": {},
   "outputs": [
    {
     "name": "stdout",
     "output_type": "stream",
     "text": [
      "Updated Dictionary: {'Germany': 'Berlin', 'England': 'London', 'India': 'New Delhi'}\n"
     ]
    }
   ],
   "source": [
    "# Dictionaries are used to store data values in key: value pairs. A dictionary is a collection that is ordered, changeable and does not allow duplicates.\n",
    "# Dictionaries are written with curly brackets.\n",
    "# creating a dictionary\n",
    "my_dict = {\n",
    "  \"Germany\": \"Berlin\", \n",
    "  \"Canada\": \"Ottawa\", \n",
    "  \"England\": \"UK\"\n",
    "}\n",
    "\n",
    "# modifying dictionary elements\n",
    "my_dict[\"England\"] = \"London\"\n",
    "\n",
    "# adding elements\n",
    "my_dict[\"India\"] = \"New Delhi\"\n",
    "\n",
    "# removing elements\n",
    "my_dict.pop(\"Canada\")\n",
    "\n",
    "print(\"Updated Dictionary:\", my_dict)"
   ]
  },
  {
   "cell_type": "code",
   "execution_count": null,
   "id": "7e951cdf-21ea-45b9-b969-d37f39c0a770",
   "metadata": {},
   "outputs": [],
   "source": []
  }
 ],
 "metadata": {
  "kernelspec": {
   "display_name": "Python 3 (ipykernel)",
   "language": "python",
   "name": "python3"
  },
  "language_info": {
   "codemirror_mode": {
    "name": "ipython",
    "version": 3
   },
   "file_extension": ".py",
   "mimetype": "text/x-python",
   "name": "python",
   "nbconvert_exporter": "python",
   "pygments_lexer": "ipython3",
   "version": "3.12.4"
  }
 },
 "nbformat": 4,
 "nbformat_minor": 5
}
